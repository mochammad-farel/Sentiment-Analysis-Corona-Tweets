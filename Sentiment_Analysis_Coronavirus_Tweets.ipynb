{
  "nbformat": 4,
  "nbformat_minor": 0,
  "metadata": {
    "language_info": {
      "codemirror_mode": {
        "name": "ipython",
        "version": 3
      },
      "file_extension": ".py",
      "mimetype": "text/x-python",
      "name": "python",
      "nbconvert_exporter": "python",
      "pygments_lexer": "ipython3",
      "version": "3.7.6"
    },
    "orig_nbformat": 4,
    "kernelspec": {
      "name": "python3",
      "display_name": "Python 3.7.6 64-bit ('base': conda)"
    },
    "interpreter": {
      "hash": "6d46af94c2bbce495f1e668725902fa517c90b1782bcfe2fce0dd9868df553d3"
    },
    "colab": {
      "name": "NLP_code.ipynb",
      "provenance": [],
      "collapsed_sections": []
    },
    "accelerator": "GPU"
  },
  "cells": [
    {
      "cell_type": "markdown",
      "metadata": {
        "id": "9Ld3W3iqaWjy"
      },
      "source": [
        "IMPORTING LIBRARIES"
      ]
    },
    {
      "cell_type": "code",
      "metadata": {
        "id": "hJcgW7_tSY7a"
      },
      "source": [
        "import numpy as np\n",
        "import pandas as pd\n",
        "import nltk\n",
        "from nltk.corpus import stopwords\n",
        "import matplotlib.pyplot as plt\n",
        "from nltk.stem import WordNetLemmatizer\n",
        "from sklearn.feature_extraction.text import CountVectorizer\n",
        "import pickle\n",
        "import time\n",
        "import re"
      ],
      "execution_count": null,
      "outputs": []
    },
    {
      "cell_type": "markdown",
      "metadata": {
        "id": "CDwu5dJTagCM"
      },
      "source": [
        "DOWNLOADING NLTK (Natural Language Toolkit)"
      ]
    },
    {
      "cell_type": "code",
      "metadata": {
        "colab": {
          "base_uri": "https://localhost:8080/"
        },
        "id": "u8ONOTGPUSOo",
        "outputId": "be5aac20-fd50-4d7f-a851-a2e82736968a"
      },
      "source": [
        "nltk.download('stopwords')"
      ],
      "execution_count": null,
      "outputs": [
        {
          "output_type": "stream",
          "text": [
            "[nltk_data] Downloading package stopwords to /root/nltk_data...\n",
            "[nltk_data]   Unzipping corpora/stopwords.zip.\n"
          ],
          "name": "stdout"
        },
        {
          "output_type": "execute_result",
          "data": {
            "text/plain": [
              "True"
            ]
          },
          "metadata": {
            "tags": []
          },
          "execution_count": 2
        }
      ]
    },
    {
      "cell_type": "code",
      "metadata": {
        "colab": {
          "base_uri": "https://localhost:8080/"
        },
        "id": "acpbj_A3Vyps",
        "outputId": "42371bbd-640c-4f4a-f52c-0dcd2f422383"
      },
      "source": [
        "nltk.download('wordnet')"
      ],
      "execution_count": null,
      "outputs": [
        {
          "output_type": "stream",
          "text": [
            "[nltk_data] Downloading package wordnet to /root/nltk_data...\n",
            "[nltk_data]   Unzipping corpora/wordnet.zip.\n"
          ],
          "name": "stdout"
        },
        {
          "output_type": "execute_result",
          "data": {
            "text/plain": [
              "True"
            ]
          },
          "metadata": {
            "tags": []
          },
          "execution_count": 3
        }
      ]
    },
    {
      "cell_type": "code",
      "metadata": {
        "colab": {
          "base_uri": "https://localhost:8080/"
        },
        "id": "_ram6yFbX9Oj",
        "outputId": "1ba01d10-b2c1-4dca-a42e-ff9f9a96392c"
      },
      "source": [
        "nltk.download('punkt')"
      ],
      "execution_count": null,
      "outputs": [
        {
          "output_type": "stream",
          "text": [
            "[nltk_data] Downloading package punkt to /root/nltk_data...\n",
            "[nltk_data]   Unzipping tokenizers/punkt.zip.\n"
          ],
          "name": "stdout"
        },
        {
          "output_type": "execute_result",
          "data": {
            "text/plain": [
              "True"
            ]
          },
          "metadata": {
            "tags": []
          },
          "execution_count": 4
        }
      ]
    },
    {
      "cell_type": "markdown",
      "metadata": {
        "id": "Pb5kkmRNas6I"
      },
      "source": [
        "READ DATASET"
      ]
    },
    {
      "cell_type": "code",
      "metadata": {
        "id": "-j6DhJE8SY7c"
      },
      "source": [
        "train_set = pd.read_csv('Corona_NLP_train.csv',encoding=\"latin1\")\n",
        "test_set = pd.read_csv('Corona_NLP_test.csv',encoding=\"latin1\")"
      ],
      "execution_count": null,
      "outputs": []
    },
    {
      "cell_type": "code",
      "metadata": {
        "colab": {
          "base_uri": "https://localhost:8080/",
          "height": 204
        },
        "id": "z4bU_gCRSY7c",
        "outputId": "22a31250-76c6-47dd-b16d-770897f099fd"
      },
      "source": [
        "train_set.head()"
      ],
      "execution_count": null,
      "outputs": [
        {
          "output_type": "execute_result",
          "data": {
            "text/html": [
              "<div>\n",
              "<style scoped>\n",
              "    .dataframe tbody tr th:only-of-type {\n",
              "        vertical-align: middle;\n",
              "    }\n",
              "\n",
              "    .dataframe tbody tr th {\n",
              "        vertical-align: top;\n",
              "    }\n",
              "\n",
              "    .dataframe thead th {\n",
              "        text-align: right;\n",
              "    }\n",
              "</style>\n",
              "<table border=\"1\" class=\"dataframe\">\n",
              "  <thead>\n",
              "    <tr style=\"text-align: right;\">\n",
              "      <th></th>\n",
              "      <th>UserName</th>\n",
              "      <th>ScreenName</th>\n",
              "      <th>Location</th>\n",
              "      <th>TweetAt</th>\n",
              "      <th>OriginalTweet</th>\n",
              "      <th>Sentiment</th>\n",
              "    </tr>\n",
              "  </thead>\n",
              "  <tbody>\n",
              "    <tr>\n",
              "      <th>0</th>\n",
              "      <td>3799</td>\n",
              "      <td>48751</td>\n",
              "      <td>London</td>\n",
              "      <td>16-03-2020</td>\n",
              "      <td>@MeNyrbie @Phil_Gahan @Chrisitv https://t.co/i...</td>\n",
              "      <td>Neutral</td>\n",
              "    </tr>\n",
              "    <tr>\n",
              "      <th>1</th>\n",
              "      <td>3800</td>\n",
              "      <td>48752</td>\n",
              "      <td>UK</td>\n",
              "      <td>16-03-2020</td>\n",
              "      <td>advice Talk to your neighbours family to excha...</td>\n",
              "      <td>Positive</td>\n",
              "    </tr>\n",
              "    <tr>\n",
              "      <th>2</th>\n",
              "      <td>3801</td>\n",
              "      <td>48753</td>\n",
              "      <td>Vagabonds</td>\n",
              "      <td>16-03-2020</td>\n",
              "      <td>Coronavirus Australia: Woolworths to give elde...</td>\n",
              "      <td>Positive</td>\n",
              "    </tr>\n",
              "    <tr>\n",
              "      <th>3</th>\n",
              "      <td>3802</td>\n",
              "      <td>48754</td>\n",
              "      <td>NaN</td>\n",
              "      <td>16-03-2020</td>\n",
              "      <td>My food stock is not the only one which is emp...</td>\n",
              "      <td>Positive</td>\n",
              "    </tr>\n",
              "    <tr>\n",
              "      <th>4</th>\n",
              "      <td>3803</td>\n",
              "      <td>48755</td>\n",
              "      <td>NaN</td>\n",
              "      <td>16-03-2020</td>\n",
              "      <td>Me, ready to go at supermarket during the #COV...</td>\n",
              "      <td>Extremely Negative</td>\n",
              "    </tr>\n",
              "  </tbody>\n",
              "</table>\n",
              "</div>"
            ],
            "text/plain": [
              "   UserName  ...           Sentiment\n",
              "0      3799  ...             Neutral\n",
              "1      3800  ...            Positive\n",
              "2      3801  ...            Positive\n",
              "3      3802  ...            Positive\n",
              "4      3803  ...  Extremely Negative\n",
              "\n",
              "[5 rows x 6 columns]"
            ]
          },
          "metadata": {
            "tags": []
          },
          "execution_count": 6
        }
      ]
    },
    {
      "cell_type": "markdown",
      "metadata": {
        "id": "T9NHz7pbawuU"
      },
      "source": [
        "DROP THE UNRELEVANT FEATURE IN DATASET"
      ]
    },
    {
      "cell_type": "code",
      "metadata": {
        "colab": {
          "base_uri": "https://localhost:8080/",
          "height": 204
        },
        "id": "3LOMGlVISY7d",
        "outputId": "8f3793aa-0c8a-463b-e0b9-2391540a255f"
      },
      "source": [
        "unrelevant_features = [\"UserName\",\"ScreenName\",\"Location\",\"TweetAt\"]\n",
        "\n",
        "train_set.drop(unrelevant_features,inplace=True,axis=1)\n",
        "test_set.drop(unrelevant_features,inplace=True,axis=1)\n",
        "train_set.head()"
      ],
      "execution_count": null,
      "outputs": [
        {
          "output_type": "execute_result",
          "data": {
            "text/html": [
              "<div>\n",
              "<style scoped>\n",
              "    .dataframe tbody tr th:only-of-type {\n",
              "        vertical-align: middle;\n",
              "    }\n",
              "\n",
              "    .dataframe tbody tr th {\n",
              "        vertical-align: top;\n",
              "    }\n",
              "\n",
              "    .dataframe thead th {\n",
              "        text-align: right;\n",
              "    }\n",
              "</style>\n",
              "<table border=\"1\" class=\"dataframe\">\n",
              "  <thead>\n",
              "    <tr style=\"text-align: right;\">\n",
              "      <th></th>\n",
              "      <th>OriginalTweet</th>\n",
              "      <th>Sentiment</th>\n",
              "    </tr>\n",
              "  </thead>\n",
              "  <tbody>\n",
              "    <tr>\n",
              "      <th>0</th>\n",
              "      <td>@MeNyrbie @Phil_Gahan @Chrisitv https://t.co/i...</td>\n",
              "      <td>Neutral</td>\n",
              "    </tr>\n",
              "    <tr>\n",
              "      <th>1</th>\n",
              "      <td>advice Talk to your neighbours family to excha...</td>\n",
              "      <td>Positive</td>\n",
              "    </tr>\n",
              "    <tr>\n",
              "      <th>2</th>\n",
              "      <td>Coronavirus Australia: Woolworths to give elde...</td>\n",
              "      <td>Positive</td>\n",
              "    </tr>\n",
              "    <tr>\n",
              "      <th>3</th>\n",
              "      <td>My food stock is not the only one which is emp...</td>\n",
              "      <td>Positive</td>\n",
              "    </tr>\n",
              "    <tr>\n",
              "      <th>4</th>\n",
              "      <td>Me, ready to go at supermarket during the #COV...</td>\n",
              "      <td>Extremely Negative</td>\n",
              "    </tr>\n",
              "  </tbody>\n",
              "</table>\n",
              "</div>"
            ],
            "text/plain": [
              "                                       OriginalTweet           Sentiment\n",
              "0  @MeNyrbie @Phil_Gahan @Chrisitv https://t.co/i...             Neutral\n",
              "1  advice Talk to your neighbours family to excha...            Positive\n",
              "2  Coronavirus Australia: Woolworths to give elde...            Positive\n",
              "3  My food stock is not the only one which is emp...            Positive\n",
              "4  Me, ready to go at supermarket during the #COV...  Extremely Negative"
            ]
          },
          "metadata": {
            "tags": []
          },
          "execution_count": 7
        }
      ]
    },
    {
      "cell_type": "markdown",
      "metadata": {
        "id": "UzPbJ1XebKCr"
      },
      "source": [
        "COUNTING SENTIMENT IN DATASET"
      ]
    },
    {
      "cell_type": "code",
      "metadata": {
        "colab": {
          "base_uri": "https://localhost:8080/"
        },
        "id": "DEslQdXBSY7d",
        "outputId": "c9697a97-974c-4abb-acb3-b333200b4eb5"
      },
      "source": [
        "train_set[\"Sentiment\"].value_counts()"
      ],
      "execution_count": null,
      "outputs": [
        {
          "output_type": "execute_result",
          "data": {
            "text/plain": [
              "Positive              11422\n",
              "Negative               9917\n",
              "Neutral                7713\n",
              "Extremely Positive     6624\n",
              "Extremely Negative     5481\n",
              "Name: Sentiment, dtype: int64"
            ]
          },
          "metadata": {
            "tags": []
          },
          "execution_count": 8
        }
      ]
    },
    {
      "cell_type": "markdown",
      "metadata": {
        "id": "5CPsqY6Bbbls"
      },
      "source": [
        "MAKE AN OBJECT THAT CONTAIN POSITIVE AND EXTREMELY POSITIVE SENTIMENT"
      ]
    },
    {
      "cell_type": "code",
      "metadata": {
        "colab": {
          "base_uri": "https://localhost:8080/",
          "height": 255
        },
        "id": "QJkgIIJXSY7e",
        "outputId": "2fe29b3d-64bc-49a3-c0ce-693c1931117f"
      },
      "source": [
        "positives = train_set[(train_set[\"Sentiment\"] == \"Positive\") | (train_set[\"Sentiment\"] == \"Extremely Positive\")]\n",
        "positives_test = test_set[(test_set[\"Sentiment\"] == \"Positive\") | (test_set[\"Sentiment\"] == \"Extremely Positive\")]\n",
        "print(positives[\"Sentiment\"].value_counts())\n",
        "positives.head()"
      ],
      "execution_count": null,
      "outputs": [
        {
          "output_type": "stream",
          "text": [
            "Positive              11422\n",
            "Extremely Positive     6624\n",
            "Name: Sentiment, dtype: int64\n"
          ],
          "name": "stdout"
        },
        {
          "output_type": "execute_result",
          "data": {
            "text/html": [
              "<div>\n",
              "<style scoped>\n",
              "    .dataframe tbody tr th:only-of-type {\n",
              "        vertical-align: middle;\n",
              "    }\n",
              "\n",
              "    .dataframe tbody tr th {\n",
              "        vertical-align: top;\n",
              "    }\n",
              "\n",
              "    .dataframe thead th {\n",
              "        text-align: right;\n",
              "    }\n",
              "</style>\n",
              "<table border=\"1\" class=\"dataframe\">\n",
              "  <thead>\n",
              "    <tr style=\"text-align: right;\">\n",
              "      <th></th>\n",
              "      <th>OriginalTweet</th>\n",
              "      <th>Sentiment</th>\n",
              "    </tr>\n",
              "  </thead>\n",
              "  <tbody>\n",
              "    <tr>\n",
              "      <th>1</th>\n",
              "      <td>advice Talk to your neighbours family to excha...</td>\n",
              "      <td>Positive</td>\n",
              "    </tr>\n",
              "    <tr>\n",
              "      <th>2</th>\n",
              "      <td>Coronavirus Australia: Woolworths to give elde...</td>\n",
              "      <td>Positive</td>\n",
              "    </tr>\n",
              "    <tr>\n",
              "      <th>3</th>\n",
              "      <td>My food stock is not the only one which is emp...</td>\n",
              "      <td>Positive</td>\n",
              "    </tr>\n",
              "    <tr>\n",
              "      <th>5</th>\n",
              "      <td>As news of the regionÂs first confirmed COVID...</td>\n",
              "      <td>Positive</td>\n",
              "    </tr>\n",
              "    <tr>\n",
              "      <th>6</th>\n",
              "      <td>Cashier at grocery store was sharing his insig...</td>\n",
              "      <td>Positive</td>\n",
              "    </tr>\n",
              "  </tbody>\n",
              "</table>\n",
              "</div>"
            ],
            "text/plain": [
              "                                       OriginalTweet Sentiment\n",
              "1  advice Talk to your neighbours family to excha...  Positive\n",
              "2  Coronavirus Australia: Woolworths to give elde...  Positive\n",
              "3  My food stock is not the only one which is emp...  Positive\n",
              "5  As news of the regionÂs first confirmed COVID...  Positive\n",
              "6  Cashier at grocery store was sharing his insig...  Positive"
            ]
          },
          "metadata": {
            "tags": []
          },
          "execution_count": 9
        }
      ]
    },
    {
      "cell_type": "markdown",
      "metadata": {
        "id": "OcH3HoAcbnNT"
      },
      "source": [
        "MAKE AN OBJECT THAT CONTAIN NEGATIVE AND EXTREMELY NEGATIVE SENTIMENT"
      ]
    },
    {
      "cell_type": "code",
      "metadata": {
        "colab": {
          "base_uri": "https://localhost:8080/",
          "height": 255
        },
        "id": "t4scqTztSyxg",
        "outputId": "be6f1ea2-e23b-4f18-dd98-7a6cf5b13b2b"
      },
      "source": [
        "negatives = train_set[(train_set[\"Sentiment\"] == \"Negative\") | (train_set[\"Sentiment\"] == \"Extremely Negative\")]\n",
        "negatives_test = test_set[(test_set[\"Sentiment\"] == \"Negative\") | (test_set[\"Sentiment\"] == \"Extremely Negative\")]\n",
        "print(negatives[\"Sentiment\"].value_counts())\n",
        "negatives.head()"
      ],
      "execution_count": null,
      "outputs": [
        {
          "output_type": "stream",
          "text": [
            "Negative              9917\n",
            "Extremely Negative    5481\n",
            "Name: Sentiment, dtype: int64\n"
          ],
          "name": "stdout"
        },
        {
          "output_type": "execute_result",
          "data": {
            "text/html": [
              "<div>\n",
              "<style scoped>\n",
              "    .dataframe tbody tr th:only-of-type {\n",
              "        vertical-align: middle;\n",
              "    }\n",
              "\n",
              "    .dataframe tbody tr th {\n",
              "        vertical-align: top;\n",
              "    }\n",
              "\n",
              "    .dataframe thead th {\n",
              "        text-align: right;\n",
              "    }\n",
              "</style>\n",
              "<table border=\"1\" class=\"dataframe\">\n",
              "  <thead>\n",
              "    <tr style=\"text-align: right;\">\n",
              "      <th></th>\n",
              "      <th>OriginalTweet</th>\n",
              "      <th>Sentiment</th>\n",
              "    </tr>\n",
              "  </thead>\n",
              "  <tbody>\n",
              "    <tr>\n",
              "      <th>4</th>\n",
              "      <td>Me, ready to go at supermarket during the #COV...</td>\n",
              "      <td>Extremely Negative</td>\n",
              "    </tr>\n",
              "    <tr>\n",
              "      <th>9</th>\n",
              "      <td>For corona prevention,we should stop to buy th...</td>\n",
              "      <td>Negative</td>\n",
              "    </tr>\n",
              "    <tr>\n",
              "      <th>20</th>\n",
              "      <td>with 100  nations inficted with  covid  19  th...</td>\n",
              "      <td>Extremely Negative</td>\n",
              "    </tr>\n",
              "    <tr>\n",
              "      <th>24</th>\n",
              "      <td>@10DowningStreet @grantshapps what is being do...</td>\n",
              "      <td>Negative</td>\n",
              "    </tr>\n",
              "    <tr>\n",
              "      <th>26</th>\n",
              "      <td>In preparation for higher demand and a potenti...</td>\n",
              "      <td>Negative</td>\n",
              "    </tr>\n",
              "  </tbody>\n",
              "</table>\n",
              "</div>"
            ],
            "text/plain": [
              "                                        OriginalTweet           Sentiment\n",
              "4   Me, ready to go at supermarket during the #COV...  Extremely Negative\n",
              "9   For corona prevention,we should stop to buy th...            Negative\n",
              "20  with 100  nations inficted with  covid  19  th...  Extremely Negative\n",
              "24  @10DowningStreet @grantshapps what is being do...            Negative\n",
              "26  In preparation for higher demand and a potenti...            Negative"
            ]
          },
          "metadata": {
            "tags": []
          },
          "execution_count": 10
        }
      ]
    },
    {
      "cell_type": "markdown",
      "metadata": {
        "id": "Cx8k8m98b3C1"
      },
      "source": [
        "MAKE AN OBJECT THAT CONTAIN NEUTRAL SENTIMENT"
      ]
    },
    {
      "cell_type": "code",
      "metadata": {
        "colab": {
          "base_uri": "https://localhost:8080/",
          "height": 238
        },
        "id": "mrypICOaS5AG",
        "outputId": "425de1c1-5b18-4f14-8622-e2b6603c86e4"
      },
      "source": [
        "neutrals = train_set[train_set[\"Sentiment\"] == \"Neutral\"]\n",
        "neutrals_test = test_set[test_set[\"Sentiment\"] == \"Neutral\"]\n",
        "print(neutrals[\"Sentiment\"].value_counts())\n",
        "neutrals.head()"
      ],
      "execution_count": null,
      "outputs": [
        {
          "output_type": "stream",
          "text": [
            "Neutral    7713\n",
            "Name: Sentiment, dtype: int64\n"
          ],
          "name": "stdout"
        },
        {
          "output_type": "execute_result",
          "data": {
            "text/html": [
              "<div>\n",
              "<style scoped>\n",
              "    .dataframe tbody tr th:only-of-type {\n",
              "        vertical-align: middle;\n",
              "    }\n",
              "\n",
              "    .dataframe tbody tr th {\n",
              "        vertical-align: top;\n",
              "    }\n",
              "\n",
              "    .dataframe thead th {\n",
              "        text-align: right;\n",
              "    }\n",
              "</style>\n",
              "<table border=\"1\" class=\"dataframe\">\n",
              "  <thead>\n",
              "    <tr style=\"text-align: right;\">\n",
              "      <th></th>\n",
              "      <th>OriginalTweet</th>\n",
              "      <th>Sentiment</th>\n",
              "    </tr>\n",
              "  </thead>\n",
              "  <tbody>\n",
              "    <tr>\n",
              "      <th>0</th>\n",
              "      <td>@MeNyrbie @Phil_Gahan @Chrisitv https://t.co/i...</td>\n",
              "      <td>Neutral</td>\n",
              "    </tr>\n",
              "    <tr>\n",
              "      <th>7</th>\n",
              "      <td>Was at the supermarket today. Didn't buy toile...</td>\n",
              "      <td>Neutral</td>\n",
              "    </tr>\n",
              "    <tr>\n",
              "      <th>10</th>\n",
              "      <td>All month there hasn't been crowding in the su...</td>\n",
              "      <td>Neutral</td>\n",
              "    </tr>\n",
              "    <tr>\n",
              "      <th>16</th>\n",
              "      <td>????? ????? ????? ????? ??\\r\\r\\n?????? ????? ?...</td>\n",
              "      <td>Neutral</td>\n",
              "    </tr>\n",
              "    <tr>\n",
              "      <th>17</th>\n",
              "      <td>@eyeonthearctic 16MAR20 Russia consumer survei...</td>\n",
              "      <td>Neutral</td>\n",
              "    </tr>\n",
              "  </tbody>\n",
              "</table>\n",
              "</div>"
            ],
            "text/plain": [
              "                                        OriginalTweet Sentiment\n",
              "0   @MeNyrbie @Phil_Gahan @Chrisitv https://t.co/i...   Neutral\n",
              "7   Was at the supermarket today. Didn't buy toile...   Neutral\n",
              "10  All month there hasn't been crowding in the su...   Neutral\n",
              "16  ????? ????? ????? ????? ??\\r\\r\\n?????? ????? ?...   Neutral\n",
              "17  @eyeonthearctic 16MAR20 Russia consumer survei...   Neutral"
            ]
          },
          "metadata": {
            "tags": []
          },
          "execution_count": 11
        }
      ]
    },
    {
      "cell_type": "markdown",
      "metadata": {
        "id": "KzaQzVV7cD1J"
      },
      "source": [
        "LABELLING THE SENTIMENT INTO NUMBER\n",
        "\n",
        "- for positive the label is 2\n",
        "- for negative is 0\n",
        "- for neutral is 1"
      ]
    },
    {
      "cell_type": "code",
      "metadata": {
        "colab": {
          "base_uri": "https://localhost:8080/",
          "height": 204
        },
        "id": "VkI6fBP_S9C1",
        "outputId": "c4e426bc-deba-4f11-ba8e-0fe22e8b3579"
      },
      "source": [
        "import warnings as wrn\n",
        "wrn.filterwarnings('ignore')\n",
        "\n",
        "negatives[\"Sentiment\"] = 0 \n",
        "negatives_test[\"Sentiment\"] = 0\n",
        "\n",
        "positives[\"Sentiment\"] = 2\n",
        "positives_test[\"Sentiment\"] = 2\n",
        "\n",
        "neutrals[\"Sentiment\"] = 1\n",
        "neutrals_test[\"Sentiment\"] = 1\n",
        "\n",
        "negatives.head()"
      ],
      "execution_count": null,
      "outputs": [
        {
          "output_type": "execute_result",
          "data": {
            "text/html": [
              "<div>\n",
              "<style scoped>\n",
              "    .dataframe tbody tr th:only-of-type {\n",
              "        vertical-align: middle;\n",
              "    }\n",
              "\n",
              "    .dataframe tbody tr th {\n",
              "        vertical-align: top;\n",
              "    }\n",
              "\n",
              "    .dataframe thead th {\n",
              "        text-align: right;\n",
              "    }\n",
              "</style>\n",
              "<table border=\"1\" class=\"dataframe\">\n",
              "  <thead>\n",
              "    <tr style=\"text-align: right;\">\n",
              "      <th></th>\n",
              "      <th>OriginalTweet</th>\n",
              "      <th>Sentiment</th>\n",
              "    </tr>\n",
              "  </thead>\n",
              "  <tbody>\n",
              "    <tr>\n",
              "      <th>4</th>\n",
              "      <td>Me, ready to go at supermarket during the #COV...</td>\n",
              "      <td>0</td>\n",
              "    </tr>\n",
              "    <tr>\n",
              "      <th>9</th>\n",
              "      <td>For corona prevention,we should stop to buy th...</td>\n",
              "      <td>0</td>\n",
              "    </tr>\n",
              "    <tr>\n",
              "      <th>20</th>\n",
              "      <td>with 100  nations inficted with  covid  19  th...</td>\n",
              "      <td>0</td>\n",
              "    </tr>\n",
              "    <tr>\n",
              "      <th>24</th>\n",
              "      <td>@10DowningStreet @grantshapps what is being do...</td>\n",
              "      <td>0</td>\n",
              "    </tr>\n",
              "    <tr>\n",
              "      <th>26</th>\n",
              "      <td>In preparation for higher demand and a potenti...</td>\n",
              "      <td>0</td>\n",
              "    </tr>\n",
              "  </tbody>\n",
              "</table>\n",
              "</div>"
            ],
            "text/plain": [
              "                                        OriginalTweet  Sentiment\n",
              "4   Me, ready to go at supermarket during the #COV...          0\n",
              "9   For corona prevention,we should stop to buy th...          0\n",
              "20  with 100  nations inficted with  covid  19  th...          0\n",
              "24  @10DowningStreet @grantshapps what is being do...          0\n",
              "26  In preparation for higher demand and a potenti...          0"
            ]
          },
          "metadata": {
            "tags": []
          },
          "execution_count": 12
        }
      ]
    },
    {
      "cell_type": "markdown",
      "metadata": {
        "id": "E4eeqWqNcco0"
      },
      "source": [
        "CONCATENATE OR JOINING THE OBJECT AND MAKING DATAFRAME\n",
        "TO CONTAIN THE OBJECT"
      ]
    },
    {
      "cell_type": "code",
      "metadata": {
        "id": "IEilUzXSTD8P"
      },
      "source": [
        "data = pd.concat([positives,\n",
        "                  positives_test,\n",
        "                  neutrals,\n",
        "                  neutrals_test,\n",
        "                  negatives,\n",
        "                  negatives_test\n",
        "                 ],axis=0)\n",
        "\n",
        "data.reset_index(inplace=True)"
      ],
      "execution_count": null,
      "outputs": []
    },
    {
      "cell_type": "code",
      "metadata": {
        "colab": {
          "base_uri": "https://localhost:8080/"
        },
        "id": "AcSl2CEMTJSv",
        "outputId": "1896e90c-7db4-4b1f-87b9-3b1dfebd0cb2"
      },
      "source": [
        "data.info()"
      ],
      "execution_count": null,
      "outputs": [
        {
          "output_type": "stream",
          "text": [
            "<class 'pandas.core.frame.DataFrame'>\n",
            "RangeIndex: 44955 entries, 0 to 44954\n",
            "Data columns (total 3 columns):\n",
            " #   Column         Non-Null Count  Dtype \n",
            "---  ------         --------------  ----- \n",
            " 0   index          44955 non-null  int64 \n",
            " 1   OriginalTweet  44955 non-null  object\n",
            " 2   Sentiment      44955 non-null  int64 \n",
            "dtypes: int64(2), object(1)\n",
            "memory usage: 1.0+ MB\n"
          ],
          "name": "stdout"
        }
      ]
    },
    {
      "cell_type": "markdown",
      "metadata": {
        "id": "dMvVUdpudGRb"
      },
      "source": [
        "RANDOMING TEXT"
      ]
    },
    {
      "cell_type": "code",
      "metadata": {
        "colab": {
          "base_uri": "https://localhost:8080/"
        },
        "id": "9fUjfA85TKwP",
        "outputId": "6f7b1bd6-fbc3-4b77-e22a-ab45b3c10324"
      },
      "source": [
        "import random\n",
        "for i in range(1,10):\n",
        "    random_ind = random.randint(0,len(data))\n",
        "    print(str(data[\"OriginalTweet\"][random_ind]),end=\"\\nLabel: \")\n",
        "    print(str(data[\"Sentiment\"][random_ind]),end=\"\\n\\n\")"
      ],
      "execution_count": null,
      "outputs": [
        {
          "output_type": "stream",
          "text": [
            "One of the country's largest pork processing facilities is closing until further notice as employees fall ill with Covid-19. The closure puts the country's meat supply at risk, said the CEO of Smithfield, which operates the plant. https://t.co/BCadI0paBc\n",
            "Label: 0\n",
            "\n",
            "@AdamBandt The rationing on essential groceries like milk, rice, pasta, and flour, etc. means, supermarket trips/week, will increase considerably. This situation will lead to overcrowding in the supermarkets, &amp; will add to the current exponential spre\n",
            "Label: 2\n",
            "\n",
            "Thanks to everyone who donated their empty #toiletpaper rolls for my #easter bonfire last night. We've been here 17hrs &amp; only have 675,000 left to get through. #bonfires #coronavirus #IsolationLife https://t.co/zMIaEcby1V\n",
            "Label: 2\n",
            "\n",
            "Just me, headed off to the grocery store. #coronavirus https://t.co/tFiTPZPm41\n",
            "Label: 1\n",
            "\n",
            "@askboomer1949 You can help the grocery store people by maintaining #SocialDistancing and if you have a mask, wear it when you go to the grocery store.\n",
            "Label: 2\n",
            "\n",
            "Asia AM The Canadian Dollar may fall alongside prices at market open after the virtual meeting was pushed back The Australian Dollar may rise as weekend stock futures gain USDCAD AUDUSD\n",
            "Label: 2\n",
            "\n",
            "@amyriscool @republiculos Thank you. I just saw the news that TX was added as part of the disaster states. People here are still going out. It is so frustrating. I read someone who went to the grocery store got Covid-19. My husband still goes. I told him \n",
            "Label: 0\n",
            "\n",
            "Has Toilet Paper Peaked?\r\r\n",
            "\r\r\n",
            "#StayHome #StaySafe #CoronaVirusDE #COVID19 #CoronaVirus #Corona https://t.co/Nw2VwTtdLq\n",
            "Label: 1\n",
            "\n",
            "Here's some food for thought. According to NSDUH, 70.1% of American adults drink alcohol. 3/4 of Americans must legally isolate. They're going to want to have some fun doing it. Beer sales are up 55%, but carefulÂÂcraft beer goes mainly to taprooms. $BUD Light is easy and cheap. https://t.co/CMzVJTTAZ5\n",
            "Label: 2\n",
            "\n"
          ],
          "name": "stdout"
        }
      ]
    },
    {
      "cell_type": "markdown",
      "metadata": {
        "id": "S378xbwWdN2O"
      },
      "source": [
        "MAKE A FREQUENCY DISTRIBUTION FOR EVERY SENTIMENT"
      ]
    },
    {
      "cell_type": "code",
      "metadata": {
        "id": "Y0xLDBTVTQEK"
      },
      "source": [
        "positiveFD = nltk.FreqDist(word for text in data[data[\"Sentiment\"] == 2][\"OriginalTweet\"] for word in text.lower().split())\n",
        "negativeFD = nltk.FreqDist(word  for text in data[data[\"Sentiment\"] == 0][\"OriginalTweet\"] for word in text.lower().split())\n",
        "neutralDF = nltk.FreqDist(word  for text in data[data[\"Sentiment\"] == 1][\"OriginalTweet\"] for word in text.lower().split())"
      ],
      "execution_count": null,
      "outputs": []
    },
    {
      "cell_type": "code",
      "metadata": {
        "colab": {
          "base_uri": "https://localhost:8080/",
          "height": 570
        },
        "id": "n_NGXWgRTUYh",
        "outputId": "231c2239-6b16-440b-e989-adb38eeb464b"
      },
      "source": [
        "plt.subplots(figsize=(10,8))\n",
        "plt.title(\"Most Used Words in Positive Tweets\")\n",
        "positiveFD.plot(50)\n",
        "plt.show()"
      ],
      "execution_count": null,
      "outputs": [
        {
          "output_type": "display_data",
          "data": {
            "image/png": "[encoded data removed]",
            "text/plain": [
              "<Figure size 720x576 with 1 Axes>"
            ]
          },
          "metadata": {
            "tags": [],
            "needs_background": "light"
          }
        }
      ]
    },
    {
      "cell_type": "code",
      "metadata": {
        "colab": {
          "base_uri": "https://localhost:8080/",
          "height": 570
        },
        "id": "5oe1RgLmTXHw",
        "outputId": "27f7e161-4ab3-4abc-c3a0-fdbe51162ccd"
      },
      "source": [
        "plt.subplots(figsize=(10,8))\n",
        "plt.title(\"Most Used Words in Negative Tweets\")\n",
        "negativeFD.plot(50)\n",
        "plt.show()"
      ],
      "execution_count": null,
      "outputs": [
        {
          "output_type": "display_data",
          "data": {
            "image/png": "[encoded data removed]",
            "text/plain": [
              "<Figure size 720x576 with 1 Axes>"
            ]
          },
          "metadata": {
            "tags": [],
            "needs_background": "light"
          }
        }
      ]
    },
    {
      "cell_type": "code",
      "metadata": {
        "colab": {
          "base_uri": "https://localhost:8080/",
          "height": 570
        },
        "id": "SYzQs2AFTaay",
        "outputId": "70014e81-9974-4ccf-927d-9ea0490b8324"
      },
      "source": [
        "plt.subplots(figsize=(10,8))\n",
        "plt.title(\"Most Used Words in Neutral Tweets\")\n",
        "neutralDF.plot(50)\n",
        "plt.show()"
      ],
      "execution_count": null,
      "outputs": [
        {
          "output_type": "display_data",
          "data": {
            "image/png": "[encoded data removed]",
            "text/plain": [
              "<Figure size 720x576 with 1 Axes>"
            ]
          },
          "metadata": {
            "tags": [],
            "needs_background": "light"
          }
        }
      ]
    },
    {
      "cell_type": "markdown",
      "metadata": {
        "id": "kia5ppD3dgU1"
      },
      "source": [
        "PREPROCESSING THE DATA\n",
        "\n",
        "- the strings in data(dataframe) are going to be cleaned from links, special character, stopwords.\n",
        "- the strings are going to be tokenize or lemmatization"
      ]
    },
    {
      "cell_type": "code",
      "metadata": {
        "id": "kygkSEqxTfri"
      },
      "source": [
        "cleanedData = []\n",
        "\n",
        "lemma = WordNetLemmatizer()\n",
        "swords = stopwords.words(\"english\")\n",
        "for text in data[\"OriginalTweet\"]:\n",
        "    \n",
        "    # cleaning links\n",
        "    text = re.sub(r'http\\S+', '', text)\n",
        "    \n",
        "    # cleaning everything except alphabetical and numerical characters\n",
        "    text = re.sub(\"[^a-zA-Z0-9]\",\" \",text)\n",
        "    \n",
        "    # tokenizing and lemmatizing\n",
        "    text = nltk.word_tokenize(text.lower())\n",
        "    text = [lemma.lemmatize(word) for word in text]\n",
        "    \n",
        "    # removing stopwords\n",
        "    text = [word for word in text if word not in swords]\n",
        "    \n",
        "    # Joining\n",
        "    text = \" \".join(text)\n",
        "    \n",
        "    cleanedData.append(text)"
      ],
      "execution_count": null,
      "outputs": []
    },
    {
      "cell_type": "markdown",
      "metadata": {
        "id": "Iq4NRjlKe_KS"
      },
      "source": [
        "SHOWING THE RESULT OF THE STRINGS AFTER PREPROCESS"
      ]
    },
    {
      "cell_type": "code",
      "metadata": {
        "colab": {
          "base_uri": "https://localhost:8080/"
        },
        "id": "iKX2UP-XWGKi",
        "outputId": "575a414e-436e-41ca-d37f-8fd9af27dc1e"
      },
      "source": [
        "for i in range(0,5):\n",
        "    print(cleanedData[i],end=\"\\n\\n\")"
      ],
      "execution_count": null,
      "outputs": [
        {
          "output_type": "stream",
          "text": [
            "advice talk neighbour family exchange phone number create contact list phone number neighbour school employer chemist gp set online shopping account po adequate supply regular med order\n",
            "\n",
            "coronavirus australia woolworth give elderly disabled dedicated shopping hour amid covid 19 outbreak\n",
            "\n",
            "food stock one empty please panic enough food everyone take need stay calm stay safe covid19france covid 19 covid19 coronavirus confinement confinementotal confinementgeneral\n",
            "\n",
            "news region first confirmed covid 19 case came sullivan county last week people flocked area store purchase cleaning supply hand sanitizer food toilet paper good tim dodson report\n",
            "\n",
            "cashier grocery store wa sharing insight covid 19 prove credibility commented civics class know talking\n",
            "\n"
          ],
          "name": "stdout"
        }
      ]
    },
    {
      "cell_type": "code",
      "metadata": {
        "id": "M7TsXs4EWKUT"
      },
      "source": [
        "vectorizer = CountVectorizer(max_features=10000)\n",
        "BOW = vectorizer.fit_transform(cleanedData)"
      ],
      "execution_count": null,
      "outputs": []
    },
    {
      "cell_type": "markdown",
      "metadata": {
        "id": "6-UJ-Ipqfjoi"
      },
      "source": [
        "SPLITTING THE DATA INTO TRAIN AND TEST SET"
      ]
    },
    {
      "cell_type": "code",
      "metadata": {
        "colab": {
          "base_uri": "https://localhost:8080/"
        },
        "id": "KlsVSkdcWQcl",
        "outputId": "306a139c-6973-4540-fef8-a8c86e4dbafd"
      },
      "source": [
        "from sklearn.model_selection import train_test_split\n",
        "x_train,x_test,y_train,y_test = train_test_split(BOW,np.asarray(data[\"Sentiment\"]))\n",
        "\n",
        "print(x_train.shape)\n",
        "print(x_test.shape)\n",
        "print(y_train.shape)\n",
        "print(y_test.shape)"
      ],
      "execution_count": null,
      "outputs": [
        {
          "output_type": "stream",
          "text": [
            "(33716, 10000)\n",
            "(11239, 10000)\n",
            "(33716,)\n",
            "(11239,)\n"
          ],
          "name": "stdout"
        }
      ]
    },
    {
      "cell_type": "markdown",
      "metadata": {
        "id": "pY7ES5BJfpvw"
      },
      "source": [
        "IMPORTING SVC (Support Vector Classifier) FROM SCIKITLEARN LIBRARY\n",
        "\n",
        "- the model are going to be fitted into training set\n",
        "- and the process time for the model to fit into training set are 467.83\n",
        "- and the accuracy score is 77.20%"
      ]
    },
    {
      "cell_type": "code",
      "metadata": {
        "colab": {
          "base_uri": "https://localhost:8080/"
        },
        "id": "vEZdMrMKWRed",
        "outputId": "001a744b-49c4-4f69-d5eb-c91e570effd0"
      },
      "source": [
        "from sklearn.svm import SVC\n",
        "start_time = time.time()\n",
        "\n",
        "model = SVC()\n",
        "model.fit(x_train,y_train)\n",
        "\n",
        "end_time = time.time()\n",
        "process_time = round(end_time-start_time,2)\n",
        "print(\"Fitting SVC took {} seconds\".format(process_time))"
      ],
      "execution_count": null,
      "outputs": [
        {
          "output_type": "stream",
          "text": [
            "Fitting SVC took 467.99 seconds\n"
          ],
          "name": "stdout"
        }
      ]
    },
    {
      "cell_type": "code",
      "metadata": {
        "id": "1F7ViYteWUUm"
      },
      "source": [
        "predictions = model.predict(x_test)"
      ],
      "execution_count": null,
      "outputs": []
    },
    {
      "cell_type": "code",
      "metadata": {
        "colab": {
          "base_uri": "https://localhost:8080/"
        },
        "id": "YMY68pAaWWZQ",
        "outputId": "f505bb9d-589b-44a6-ac6f-70f05fcaa5d2"
      },
      "source": [
        "from sklearn.metrics import accuracy_score,confusion_matrix\n",
        "\n",
        "print(\"Accuracy of model is {}%\".format(accuracy_score(y_test,predictions) * 100))"
      ],
      "execution_count": null,
      "outputs": [
        {
          "output_type": "stream",
          "text": [
            "Accuracy of model is 77.54248598629772%\n"
          ],
          "name": "stdout"
        }
      ]
    },
    {
      "cell_type": "markdown",
      "metadata": {
        "id": "1nD8mqmMjNxW"
      },
      "source": [
        "IMPORTING LOGISTIC REGRESSION FROM SCIKITLEARN LIBRARY\n",
        "\n",
        "- the model are going to be fitted into training set\n",
        "- and the process time for the model to fit into training set are 3.25\n",
        "- and the accuracy score is 80%"
      ]
    },
    {
      "cell_type": "code",
      "metadata": {
        "colab": {
          "base_uri": "https://localhost:8080/"
        },
        "id": "lexU_sk_kWJY",
        "outputId": "b436078b-906f-460b-eda5-d644413a9b6d"
      },
      "source": [
        "from sklearn.linear_model import LogisticRegression\n",
        "start_time = time.time()\n",
        "\n",
        "model2 = LogisticRegression()\n",
        "model2.fit(x_train,y_train)\n",
        "\n",
        "end_time = time.time()\n",
        "process_time = round(end_time-start_time,2)\n",
        "print(\"Fitting LogisticRegression took {} seconds\".format(process_time))"
      ],
      "execution_count": null,
      "outputs": [
        {
          "output_type": "stream",
          "text": [
            "Fitting LogisticRegression took 3.25 seconds\n"
          ],
          "name": "stdout"
        }
      ]
    },
    {
      "cell_type": "code",
      "metadata": {
        "id": "BHgRNGI0kU8c"
      },
      "source": [
        "predictions = model2.predict(x_test)"
      ],
      "execution_count": null,
      "outputs": []
    },
    {
      "cell_type": "code",
      "metadata": {
        "colab": {
          "base_uri": "https://localhost:8080/"
        },
        "id": "RNxMOCLukTNG",
        "outputId": "8ce6a5e1-c04e-4fa9-e105-a5a66a5d90e6"
      },
      "source": [
        "from sklearn.metrics import accuracy_score,confusion_matrix\n",
        "\n",
        "print(\"Accuracy of model is {}%\".format(accuracy_score(y_test,predictions) * 100))"
      ],
      "execution_count": null,
      "outputs": [
        {
          "output_type": "stream",
          "text": [
            "Accuracy of model is 80.22066020108551%\n"
          ],
          "name": "stdout"
        }
      ]
    }
  ]
}